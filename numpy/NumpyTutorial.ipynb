{
  "nbformat": 4,
  "nbformat_minor": 0,
  "metadata": {
    "colab": {
      "name": "NumpyTutorial.ipynb",
      "provenance": [],
      "collapsed_sections": [],
      "include_colab_link": true
    },
    "kernelspec": {
      "name": "python3",
      "display_name": "Python 3"
    },
    "language_info": {
      "name": "python"
    }
  },
  "cells": [
    {
      "cell_type": "markdown",
      "metadata": {
        "id": "view-in-github",
        "colab_type": "text"
      },
      "source": [
        "<a href=\"https://colab.research.google.com/github/Aashishgopal/ai_club/blob/main/numpy/NumpyTutorial.ipynb\" target=\"_parent\"><img src=\"https://colab.research.google.com/assets/colab-badge.svg\" alt=\"Open In Colab\"/></a>"
      ]
    },
    {
      "cell_type": "markdown",
      "metadata": {
        "id": "7n55SOeZ5lEf"
      },
      "source": [
        "# ***NUMPY IN DIFFERENT WAYS***"
      ]
    },
    {
      "cell_type": "code",
      "metadata": {
        "id": "fqx_8z_smenh"
      },
      "source": [
        "import numpy as np"
      ],
      "execution_count": 1,
      "outputs": []
    },
    {
      "cell_type": "markdown",
      "metadata": {
        "id": "K2hZGwKz3nSg"
      },
      "source": [
        "**lists**"
      ]
    },
    {
      "cell_type": "code",
      "metadata": {
        "id": "PruwtZqwoVoG",
        "colab": {
          "base_uri": "https://localhost:8080/"
        },
        "outputId": "320e8e0f-6db8-42ff-e95e-44c218a3be42"
      },
      "source": [
        "PythonList = [6,3,4,2]\n",
        "print(PythonList)\n"
      ],
      "execution_count": 2,
      "outputs": [
        {
          "output_type": "stream",
          "text": [
            "[6, 3, 4, 2]\n"
          ],
          "name": "stdout"
        }
      ]
    },
    {
      "cell_type": "markdown",
      "metadata": {
        "id": "SQ03hoSE3sTx"
      },
      "source": [
        "**NUMPY**"
      ]
    },
    {
      "cell_type": "code",
      "metadata": {
        "id": "Rb0KF685oX2e",
        "colab": {
          "base_uri": "https://localhost:8080/"
        },
        "outputId": "dae39c87-9c06-4c69-efe7-f2176230c661"
      },
      "source": [
        "numpy_array = np.array(PythonList)\n",
        "numpy_array"
      ],
      "execution_count": 3,
      "outputs": [
        {
          "output_type": "execute_result",
          "data": {
            "text/plain": [
              "array([6, 3, 4, 2])"
            ]
          },
          "metadata": {
            "tags": []
          },
          "execution_count": 3
        }
      ]
    },
    {
      "cell_type": "code",
      "metadata": {
        "colab": {
          "base_uri": "https://localhost:8080/"
        },
        "id": "Qrxhi8qht0ET",
        "outputId": "63c3beac-7666-4ff7-eb74-4a3d76f37abd"
      },
      "source": [
        "a = numpy_array+10\n",
        "print(a)"
      ],
      "execution_count": 4,
      "outputs": [
        {
          "output_type": "stream",
          "text": [
            "[16 13 14 12]\n"
          ],
          "name": "stdout"
        }
      ]
    },
    {
      "cell_type": "code",
      "metadata": {
        "colab": {
          "base_uri": "https://localhost:8080/"
        },
        "id": "30dfhAmJuGb8",
        "outputId": "3aa2de9a-ed90-4041-a99e-4bb72bbf7c99"
      },
      "source": [
        "a = np.array([1,5,9])\n",
        "print(a)"
      ],
      "execution_count": 5,
      "outputs": [
        {
          "output_type": "stream",
          "text": [
            "[1 5 9]\n"
          ],
          "name": "stdout"
        }
      ]
    },
    {
      "cell_type": "code",
      "metadata": {
        "colab": {
          "base_uri": "https://localhost:8080/"
        },
        "id": "dtcm0iojuY4B",
        "outputId": "b94eb98f-396f-46a7-8ce4-1ad68fadc63e"
      },
      "source": [
        "b = a +10\n",
        "print(b)"
      ],
      "execution_count": 6,
      "outputs": [
        {
          "output_type": "stream",
          "text": [
            "[11 15 19]\n"
          ],
          "name": "stdout"
        }
      ]
    },
    {
      "cell_type": "code",
      "metadata": {
        "colab": {
          "base_uri": "https://localhost:8080/"
        },
        "id": "TyiG7OWYufW4",
        "outputId": "420d8eb2-e6b5-4ff1-a063-c2e70051ad40"
      },
      "source": [
        "print(a.shape)\n",
        "print(a.dtype)"
      ],
      "execution_count": 7,
      "outputs": [
        {
          "output_type": "stream",
          "text": [
            "(3,)\n",
            "int64\n"
          ],
          "name": "stdout"
        }
      ]
    },
    {
      "cell_type": "code",
      "metadata": {
        "colab": {
          "base_uri": "https://localhost:8080/"
        },
        "id": "4A7G11m1utuN",
        "outputId": "abd8dc95-9c03-4070-c1fa-5862dfb8ab08"
      },
      "source": [
        "c = np.array([(2,4,8,5),\n",
        "              (3,5,7,1)])\n",
        "print(c)"
      ],
      "execution_count": 8,
      "outputs": [
        {
          "output_type": "stream",
          "text": [
            "[[2 4 8 5]\n",
            " [3 5 7 1]]\n"
          ],
          "name": "stdout"
        }
      ]
    },
    {
      "cell_type": "code",
      "metadata": {
        "colab": {
          "base_uri": "https://localhost:8080/"
        },
        "id": "TpKW1f6yvAY0",
        "outputId": "6d587d87-fbfa-4fac-cc8d-60c1c0e0b98c"
      },
      "source": [
        "d = np.array([\n",
        "    [[5, 6,3],\n",
        "        [8, 5, 3]],\n",
        "      [[6, 8,6],\n",
        "        [15, 16, 16]]\n",
        "])\n",
        "print(d.shape)"
      ],
      "execution_count": 9,
      "outputs": [
        {
          "output_type": "stream",
          "text": [
            "(2, 2, 3)\n"
          ],
          "name": "stdout"
        }
      ]
    },
    {
      "cell_type": "markdown",
      "metadata": {
        "id": "j2-baU4e33ki"
      },
      "source": [
        "**TO PRINT 3 ROWS 3 COULMNS OF ZEROS**"
      ]
    },
    {
      "cell_type": "code",
      "metadata": {
        "colab": {
          "base_uri": "https://localhost:8080/"
        },
        "id": "kOdYmXXLvcJ0",
        "outputId": "5c706d88-2a4a-4823-ffc1-3c124228daaf"
      },
      "source": [
        "x=np.zeros((5,5), dtype=np.int16)\n",
        "print(x)"
      ],
      "execution_count": 10,
      "outputs": [
        {
          "output_type": "stream",
          "text": [
            "[[0 0 0 0 0]\n",
            " [0 0 0 0 0]\n",
            " [0 0 0 0 0]\n",
            " [0 0 0 0 0]\n",
            " [0 0 0 0 0]]\n"
          ],
          "name": "stdout"
        }
      ]
    },
    {
      "cell_type": "markdown",
      "metadata": {
        "id": "VRgCG2jd3-bM"
      },
      "source": [
        "**TO PRINT 3 TIMES OF 2 ROWS 4 COLUMNS OF ONES**"
      ]
    },
    {
      "cell_type": "code",
      "metadata": {
        "colab": {
          "base_uri": "https://localhost:8080/"
        },
        "id": "SswJz5IAx37O",
        "outputId": "22188ace-f90d-4443-f755-eb5be4b81c05"
      },
      "source": [
        "y=np.ones((5,2,7), dtype=np.int16)\n",
        "print(y)"
      ],
      "execution_count": 12,
      "outputs": [
        {
          "output_type": "stream",
          "text": [
            "[[[1 1 1 1 1 1 1]\n",
            "  [1 1 1 1 1 1 1]]\n",
            "\n",
            " [[1 1 1 1 1 1 1]\n",
            "  [1 1 1 1 1 1 1]]\n",
            "\n",
            " [[1 1 1 1 1 1 1]\n",
            "  [1 1 1 1 1 1 1]]\n",
            "\n",
            " [[1 1 1 1 1 1 1]\n",
            "  [1 1 1 1 1 1 1]]\n",
            "\n",
            " [[1 1 1 1 1 1 1]\n",
            "  [1 1 1 1 1 1 1]]]\n"
          ],
          "name": "stdout"
        }
      ]
    },
    {
      "cell_type": "markdown",
      "metadata": {
        "id": "lyeguiB54H3m"
      },
      "source": [
        "**RESHAPE TO 1 ELEMENT LISTS**"
      ]
    },
    {
      "cell_type": "code",
      "metadata": {
        "colab": {
          "base_uri": "https://localhost:8080/"
        },
        "id": "-N5Ye8b3x_f6",
        "outputId": "57b2ee55-2d1b-4bc0-d667-51980425c6db"
      },
      "source": [
        "e  = np.array([(8,2,6), (4,3,9)])\n",
        "print(e)\n",
        "e.reshape(6,1)"
      ],
      "execution_count": 20,
      "outputs": [
        {
          "output_type": "stream",
          "text": [
            "[[8 2 6]\n",
            " [4 3 9]]\n"
          ],
          "name": "stdout"
        },
        {
          "output_type": "execute_result",
          "data": {
            "text/plain": [
              "array([[8],\n",
              "       [2],\n",
              "       [6],\n",
              "       [4],\n",
              "       [3],\n",
              "       [9]])"
            ]
          },
          "metadata": {
            "tags": []
          },
          "execution_count": 20
        }
      ]
    },
    {
      "cell_type": "code",
      "metadata": {
        "colab": {
          "base_uri": "https://localhost:8080/"
        },
        "id": "Rs37jtZp1kFc",
        "outputId": "738b7afa-3cf3-4d4a-9df8-50e15f6d1f8e"
      },
      "source": [
        "print(e)"
      ],
      "execution_count": 21,
      "outputs": [
        {
          "output_type": "stream",
          "text": [
            "[[8 2 6]\n",
            " [4 3 9]]\n"
          ],
          "name": "stdout"
        }
      ]
    },
    {
      "cell_type": "code",
      "metadata": {
        "colab": {
          "base_uri": "https://localhost:8080/"
        },
        "id": "BafQoH6E1p_-",
        "outputId": "0f8affde-a6d7-4b33-be4f-d30561f6776e"
      },
      "source": [
        "print('First row:', e[0])\n",
        "print('Second row:', e[1])"
      ],
      "execution_count": 22,
      "outputs": [
        {
          "output_type": "stream",
          "text": [
            "First row: [8 2 6]\n",
            "Second row: [4 3 9]\n"
          ],
          "name": "stdout"
        }
      ]
    },
    {
      "cell_type": "code",
      "metadata": {
        "colab": {
          "base_uri": "https://localhost:8080/"
        },
        "id": "_1h9G0Wo1t5q",
        "outputId": "12434c62-d558-4517-b08a-39c5661f3d57"
      },
      "source": [
        "print('Second column:', e[:,1])"
      ],
      "execution_count": 23,
      "outputs": [
        {
          "output_type": "stream",
          "text": [
            "Second column: [2 3]\n"
          ],
          "name": "stdout"
        }
      ]
    },
    {
      "cell_type": "code",
      "metadata": {
        "colab": {
          "base_uri": "https://localhost:8080/"
        },
        "id": "yey885WD1xvk",
        "outputId": "6898a49f-7544-4a22-9805-8998a4dde349"
      },
      "source": [
        "print(e[1, :2])"
      ],
      "execution_count": 24,
      "outputs": [
        {
          "output_type": "stream",
          "text": [
            "[4 3]\n"
          ],
          "name": "stdout"
        }
      ]
    },
    {
      "cell_type": "code",
      "metadata": {
        "colab": {
          "base_uri": "https://localhost:8080/"
        },
        "id": "p36FW63ez23w",
        "outputId": "4e06a11f-57af-456a-8e31-0c7d16680270"
      },
      "source": [
        "e.flatten()"
      ],
      "execution_count": 25,
      "outputs": [
        {
          "output_type": "execute_result",
          "data": {
            "text/plain": [
              "array([8, 2, 6, 4, 3, 9])"
            ]
          },
          "metadata": {
            "tags": []
          },
          "execution_count": 25
        }
      ]
    },
    {
      "cell_type": "markdown",
      "metadata": {
        "id": "8iioWnKo4PyG"
      },
      "source": [
        "**HORITONTAL AND VERTICAL STACK**"
      ]
    },
    {
      "cell_type": "code",
      "metadata": {
        "colab": {
          "base_uri": "https://localhost:8080/"
        },
        "id": "XTHppaAzz4Kd",
        "outputId": "97cf9ff3-2c27-4cc8-962a-9d024e639247"
      },
      "source": [
        "f = np.array([1,5,8])\n",
        "g = np.array([4,9,2])\n",
        "\n",
        "print('Horizontal Append:', np.hstack((f, g)))\n",
        "print(\"Vertical append:\")\n",
        "print(np.vstack((f,g)))"
      ],
      "execution_count": 26,
      "outputs": [
        {
          "output_type": "stream",
          "text": [
            "Horizontal Append: [1 5 8 4 9 2]\n",
            "Vertical append:\n",
            "[[1 5 8]\n",
            " [4 9 2]]\n"
          ],
          "name": "stdout"
        }
      ]
    },
    {
      "cell_type": "markdown",
      "metadata": {
        "id": "obcikB_H4XKB"
      },
      "source": [
        "**TO FIND A LIST OF RANDOM ELEMENTS**"
      ]
    },
    {
      "cell_type": "code",
      "metadata": {
        "colab": {
          "base_uri": "https://localhost:8080/"
        },
        "id": "UBxVS1Uz0WvZ",
        "outputId": "7bb3f9a8-1319-4c97-fe5e-94f32ba74c08"
      },
      "source": [
        "normal_array = np.random.normal(4, 0.7, 10)\n",
        "print(normal_array)"
      ],
      "execution_count": 27,
      "outputs": [
        {
          "output_type": "stream",
          "text": [
            "[4.47397994 4.79684124 3.60131042 4.44365302 3.68191163 4.46995629\n",
            " 4.22255617 3.93781906 5.18154617 3.14055461]\n"
          ],
          "name": "stdout"
        }
      ]
    },
    {
      "cell_type": "markdown",
      "metadata": {
        "id": "cjAyVz0t4dBE"
      },
      "source": [
        "**FIND MIN , MAX, MEAN, MEDIAN,STD FROM A LISTS**"
      ]
    },
    {
      "cell_type": "code",
      "metadata": {
        "colab": {
          "base_uri": "https://localhost:8080/"
        },
        "id": "j_Vl4q7e1Yeq",
        "outputId": "d6f03b0b-5c64-43bb-df79-84ac62c06ef8"
      },
      "source": [
        "print(np.min(normal_array))\n",
        "print(np.max(normal_array))\n",
        "print(np.mean(normal_array))\n",
        "print(np.median(normal_array))\n",
        "print(np.std(normal_array))"
      ],
      "execution_count": 28,
      "outputs": [
        {
          "output_type": "stream",
          "text": [
            "3.1405546128008153\n",
            "5.181546167139519\n",
            "4.195012855448136\n",
            "4.333104594789818\n",
            "0.5783795259391313\n"
          ],
          "name": "stdout"
        }
      ]
    },
    {
      "cell_type": "markdown",
      "metadata": {
        "id": "K5miTXDc4mwG"
      },
      "source": [
        "**TO PRINT ELEMENTS IN RANGE**"
      ]
    },
    {
      "cell_type": "code",
      "metadata": {
        "colab": {
          "base_uri": "https://localhost:8080/"
        },
        "id": "Lk1F3Glv02FY",
        "outputId": "994bb982-8e8d-44dd-d7a1-529c8abc6031"
      },
      "source": [
        "np.arange(1, 9)"
      ],
      "execution_count": 29,
      "outputs": [
        {
          "output_type": "execute_result",
          "data": {
            "text/plain": [
              "array([1, 2, 3, 4, 5, 6, 7, 8])"
            ]
          },
          "metadata": {
            "tags": []
          },
          "execution_count": 29
        }
      ]
    },
    {
      "cell_type": "code",
      "metadata": {
        "colab": {
          "base_uri": "https://localhost:8080/"
        },
        "id": "UYwhyjzK04n-",
        "outputId": "092b09eb-1c43-4d02-a0c0-392e47ac381f"
      },
      "source": [
        "np.arange(1, 5,9)"
      ],
      "execution_count": 30,
      "outputs": [
        {
          "output_type": "execute_result",
          "data": {
            "text/plain": [
              "array([1])"
            ]
          },
          "metadata": {
            "tags": []
          },
          "execution_count": 30
        }
      ]
    },
    {
      "cell_type": "code",
      "metadata": {
        "colab": {
          "base_uri": "https://localhost:8080/"
        },
        "id": "m5Ji8HOW07or",
        "outputId": "235fe84f-57d3-49f1-8503-a17ae31c1c9d"
      },
      "source": [
        "np.linspace(1.0, 10.0, num=10)"
      ],
      "execution_count": 32,
      "outputs": [
        {
          "output_type": "execute_result",
          "data": {
            "text/plain": [
              "array([ 1.,  2.,  3.,  4.,  5.,  6.,  7.,  8.,  9., 10.])"
            ]
          },
          "metadata": {
            "tags": []
          },
          "execution_count": 32
        }
      ]
    },
    {
      "cell_type": "code",
      "metadata": {
        "colab": {
          "base_uri": "https://localhost:8080/"
        },
        "id": "P05A5-do2IaH",
        "outputId": "e897aa24-1b0e-41d4-edae-6d8468fa308f"
      },
      "source": [
        "np.linspace(1.0, 6.0, num=5, endpoint=False)"
      ],
      "execution_count": 33,
      "outputs": [
        {
          "output_type": "execute_result",
          "data": {
            "text/plain": [
              "array([1., 2., 3., 4., 5.])"
            ]
          },
          "metadata": {
            "tags": []
          },
          "execution_count": 33
        }
      ]
    },
    {
      "cell_type": "code",
      "metadata": {
        "colab": {
          "base_uri": "https://localhost:8080/"
        },
        "id": "TjEFnC111-y9",
        "outputId": "41918061-5333-4df8-bdbe-123b10ebed0f"
      },
      "source": [
        "np.logspace(5.0, 4.0, num=4)"
      ],
      "execution_count": 34,
      "outputs": [
        {
          "output_type": "execute_result",
          "data": {
            "text/plain": [
              "array([100000.        ,  46415.88833613,  21544.34690032,  10000.        ])"
            ]
          },
          "metadata": {
            "tags": []
          },
          "execution_count": 34
        }
      ]
    },
    {
      "cell_type": "code",
      "metadata": {
        "colab": {
          "base_uri": "https://localhost:8080/"
        },
        "id": "1laU6VsR2D_j",
        "outputId": "33cf833f-088f-430a-c2f5-aab4e762c836"
      },
      "source": [
        "x = np.array([1,2,4], dtype=np.complex128)\n",
        "x.itemsize"
      ],
      "execution_count": 35,
      "outputs": [
        {
          "output_type": "execute_result",
          "data": {
            "text/plain": [
              "16"
            ]
          },
          "metadata": {
            "tags": []
          },
          "execution_count": 35
        }
      ]
    },
    {
      "cell_type": "markdown",
      "metadata": {
        "id": "5VSNSDdX4vut"
      },
      "source": [
        "**TO FIND DOT PRODUCT OF MATRIX**"
      ]
    },
    {
      "cell_type": "code",
      "metadata": {
        "colab": {
          "base_uri": "https://localhost:8080/"
        },
        "id": "Pf3Ee-Pd2OHT",
        "outputId": "edbdb936-8730-4906-8433-98c1b22d0121"
      },
      "source": [
        "f = np.array([1,5,3])\n",
        "g = np.array([4,2,7])\n",
        "### 1*4+2*5+3*1\n",
        "np.dot(f, g)"
      ],
      "execution_count": 37,
      "outputs": [
        {
          "output_type": "execute_result",
          "data": {
            "text/plain": [
              "35"
            ]
          },
          "metadata": {
            "tags": []
          },
          "execution_count": 37
        }
      ]
    },
    {
      "cell_type": "markdown",
      "metadata": {
        "id": "UZ9EhRH441TF"
      },
      "source": [
        "**TO FIND THE INVERSE OF MATRIX**"
      ]
    },
    {
      "cell_type": "code",
      "metadata": {
        "colab": {
          "base_uri": "https://localhost:8080/"
        },
        "id": "eld_pbLr2Z2Z",
        "outputId": "4cb19470-b1f8-46c9-bbd9-746d3d64471d"
      },
      "source": [
        "A = np.array([[5, 1, 2],\n",
        "              [4, -2, 9],\n",
        "              [5, 8, 9]])\n",
        "  \n",
        "# Calculating the inverse of the matrix\n",
        "print(np.linalg.inv(A))"
      ],
      "execution_count": 38,
      "outputs": [
        {
          "output_type": "stream",
          "text": [
            "[[ 0.25210084 -0.01960784 -0.03641457]\n",
            " [-0.02521008 -0.09803922  0.10364146]\n",
            " [-0.11764706  0.09803922  0.03921569]]\n"
          ],
          "name": "stdout"
        }
      ]
    },
    {
      "cell_type": "markdown",
      "metadata": {
        "id": "Dsui4zwQ457u"
      },
      "source": [
        "**TO FIND THE MATRIX MULTIPLICATION**"
      ]
    },
    {
      "cell_type": "code",
      "metadata": {
        "colab": {
          "base_uri": "https://localhost:8080/"
        },
        "id": "jjajtu18207y",
        "outputId": "00131632-b690-43ce-ae20-4086daff1e71"
      },
      "source": [
        "h = [[1,6],[9,4]] \n",
        "i = [[5,6],[7,4]] \n",
        "### 1*5+2*7 = 19\n",
        "np.matmul(h, i)"
      ],
      "execution_count": 39,
      "outputs": [
        {
          "output_type": "execute_result",
          "data": {
            "text/plain": [
              "array([[47, 30],\n",
              "       [73, 70]])"
            ]
          },
          "metadata": {
            "tags": []
          },
          "execution_count": 39
        }
      ]
    },
    {
      "cell_type": "markdown",
      "metadata": {
        "id": "8a9rJ9t55A-B"
      },
      "source": [
        "**TO FIND THE DETERMINANT OF MATRIX**"
      ]
    },
    {
      "cell_type": "code",
      "metadata": {
        "colab": {
          "base_uri": "https://localhost:8080/"
        },
        "id": "LiHKRI-83Fj7",
        "outputId": "29defec4-1342-4dde-b4df-64c96cb92ef5"
      },
      "source": [
        "n_array = np.array([[40, 29], [20, 14]])\n",
        "  \n",
        "# Displaying the Matrix\n",
        "print(\"Numpy Matrix is:\")\n",
        "print(n_array)\n",
        "  \n",
        "# calculating the determinant of matrix\n",
        "det = np.linalg.det(n_array)\n",
        "  \n",
        "print(\"\\nDeterminant of given 2X2 matrix:\")\n",
        "print(int(det))"
      ],
      "execution_count": 40,
      "outputs": [
        {
          "output_type": "stream",
          "text": [
            "Numpy Matrix is:\n",
            "[[40 29]\n",
            " [20 14]]\n",
            "\n",
            "Determinant of given 2X2 matrix:\n",
            "-19\n"
          ],
          "name": "stdout"
        }
      ]
    },
    {
      "cell_type": "markdown",
      "metadata": {
        "id": "Gjk8wFcY5IqW"
      },
      "source": [
        "**TO FIND THE RANK OF MATRIX**"
      ]
    },
    {
      "cell_type": "code",
      "metadata": {
        "colab": {
          "base_uri": "https://localhost:8080/"
        },
        "id": "OxgyBprm3IOs",
        "outputId": "a3947760-d826-476d-b915-e6eb7b2a5047"
      },
      "source": [
        "mx = np.array([[1,1,2],[2,1,7],[1,5,3]])\n",
        "\n",
        "# Let's get rank of matrix \n",
        "np.linalg.matrix_rank(mx)"
      ],
      "execution_count": 41,
      "outputs": [
        {
          "output_type": "execute_result",
          "data": {
            "text/plain": [
              "3"
            ]
          },
          "metadata": {
            "tags": []
          },
          "execution_count": 41
        }
      ]
    },
    {
      "cell_type": "markdown",
      "metadata": {
        "id": "4pu7JLtC5OAY"
      },
      "source": [
        "**TO FIND THE TRANSPOSE OF THE MATRIX**"
      ]
    },
    {
      "cell_type": "code",
      "metadata": {
        "colab": {
          "base_uri": "https://localhost:8080/"
        },
        "id": "kpXqgRjR3SFs",
        "outputId": "ce1f6f7c-07f6-432c-a65f-bbb517086240"
      },
      "source": [
        "gfg = np.matrix('[3, 1; 15, 4]')\n",
        "              \n",
        "# applying matrix.transpose() method\n",
        "trans = gfg.transpose()\n",
        "    \n",
        "print(trans)"
      ],
      "execution_count": 42,
      "outputs": [
        {
          "output_type": "stream",
          "text": [
            "[[ 3 15]\n",
            " [ 1  4]]\n"
          ],
          "name": "stdout"
        }
      ]
    },
    {
      "cell_type": "markdown",
      "metadata": {
        "id": "Trt5CjWh5S45"
      },
      "source": [
        "**TO FIND THE TRACE OF MATRIX**"
      ]
    },
    {
      "cell_type": "code",
      "metadata": {
        "colab": {
          "base_uri": "https://localhost:8080/"
        },
        "id": "NNAUXF623Sx4",
        "outputId": "c17ff87e-23c2-499b-b397-9727a054af51"
      },
      "source": [
        "gfg = np.matrix('[2, 1; 16, 5]')\n",
        "              \n",
        "# applying matrix.trace() method\n",
        "tracem = gfg.trace()\n",
        "    \n",
        "print(tracem)"
      ],
      "execution_count": 43,
      "outputs": [
        {
          "output_type": "stream",
          "text": [
            "[[7]]\n"
          ],
          "name": "stdout"
        }
      ]
    },
    {
      "cell_type": "markdown",
      "metadata": {
        "id": "XwZkS-au5Y9X"
      },
      "source": [
        "**TO FIND THE EIGEN VALUES AND EIGEN VECTORS OF MATRIX**"
      ]
    },
    {
      "cell_type": "code",
      "metadata": {
        "colab": {
          "base_uri": "https://localhost:8080/"
        },
        "id": "1NhH-e7p3WjA",
        "outputId": "08360615-b29c-433c-ae8c-369a35065335"
      },
      "source": [
        "example_matrix = np.array([\n",
        "  [1,5,3,7],\n",
        "  [5,6,1,8],\n",
        "  [9,10,8,12],\n",
        "  [13,11,15,17]\n",
        "])\n",
        "eigenvalues, eigenvectors = np.linalg.eig(example_matrix)\n",
        "print(eigenvalues, eigenvectors)"
      ],
      "execution_count": 44,
      "outputs": [
        {
          "output_type": "stream",
          "text": [
            "[35.13486387+0.j         -3.22997218+0.j          0.04755416+2.53928162j\n",
            "  0.04755416-2.53928162j] [[-0.24375044+0.j          0.9036254 +0.j          0.07398851+0.12687077j\n",
            "   0.07398851-0.12687077j]\n",
            " [-0.2714656 +0.j         -0.19095706+0.j          0.67833724+0.j\n",
            "   0.67833724-0.j        ]\n",
            " [-0.52187961+0.j         -0.21476526+0.j          0.03408369-0.41650749j\n",
            "   0.03408369+0.41650749j]\n",
            " [-0.77106019+0.j         -0.31760418+0.j         -0.55522399+0.18808037j\n",
            "  -0.55522399-0.18808037j]]\n"
          ],
          "name": "stdout"
        }
      ]
    }
  ]
}